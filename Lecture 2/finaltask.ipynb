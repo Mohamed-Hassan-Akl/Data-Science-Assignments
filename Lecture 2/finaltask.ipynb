{
 "cells": [
  {
   "cell_type": "markdown",
   "metadata": {},
   "source": [
    "# Final task 2.2"
   ]
  },
  {
   "cell_type": "markdown",
   "metadata": {},
   "source": [
    "## 2.2.1"
   ]
  },
  {
   "cell_type": "code",
   "execution_count": 11,
   "metadata": {},
   "outputs": [
    {
     "name": "stdout",
     "output_type": "stream",
     "text": [
      "77\n"
     ]
    }
   ],
   "source": [
    "file=open(\"text.txt\",\"w+\")\n",
    "\n",
    "file.write(\"hello world1 \\nhello world2 \\nhello world3 \\nhello world4 \\nhello world5\\n \\n\")\n",
    "print(file.tell())\n",
    "file.close()"
   ]
  },
  {
   "cell_type": "markdown",
   "metadata": {},
   "source": [
    "## 2.2.2"
   ]
  },
  {
   "cell_type": "code",
   "execution_count": 2,
   "metadata": {},
   "outputs": [
    {
     "data": {
      "text/plain": [
       "['hello world1 \\n',\n",
       " 'hello world2 \\n',\n",
       " 'hello world3 \\n',\n",
       " 'hello world4 \\n',\n",
       " 'hello world5\\n',\n",
       " ' \\n']"
      ]
     },
     "execution_count": 2,
     "metadata": {},
     "output_type": "execute_result"
    }
   ],
   "source": [
    "file2= open(\"text.txt\",\"r+\")\n",
    "file2.readlines()\n"
   ]
  },
  {
   "cell_type": "code",
   "execution_count": 3,
   "metadata": {},
   "outputs": [
    {
     "data": {
      "text/plain": [
       "77"
      ]
     },
     "execution_count": 3,
     "metadata": {},
     "output_type": "execute_result"
    }
   ],
   "source": [
    "file2.tell()"
   ]
  },
  {
   "cell_type": "code",
   "execution_count": 4,
   "metadata": {},
   "outputs": [
    {
     "name": "stdout",
     "output_type": "stream",
     "text": [
      "77\n"
     ]
    },
    {
     "data": {
      "text/plain": [
       "'HELLO WORLD1 \\nHELLO WORLD2 \\nHELLO WORLD3 \\nHELLO WORLD4 \\nHELLO WORLD5\\n'"
      ]
     },
     "execution_count": 4,
     "metadata": {},
     "output_type": "execute_result"
    }
   ],
   "source": [
    "file2.seek(0)\n",
    "content= file2.readlines()\n",
    "file2_upper= content[0].upper()\n",
    "file2_upper= file2_upper+ content[1].upper()\n",
    "file2_upper= file2_upper+ content[2].upper()\n",
    "file2_upper= file2_upper+ content[3].upper()\n",
    "file2_upper= file2_upper+ content[4].upper()\n",
    "print(file2.tell())\n",
    "file2_upper"
   ]
  },
  {
   "cell_type": "code",
   "execution_count": 5,
   "metadata": {},
   "outputs": [
    {
     "name": "stdout",
     "output_type": "stream",
     "text": [
      "151\n"
     ]
    },
    {
     "data": {
      "text/plain": [
       "'hello world1 \\nhello world2 \\nhello world3 \\nhello world4 \\nhello world5\\n \\nHELLO WORLD1 \\nHELLO WORLD2 \\nHELLO WORLD3 \\nHELLO WORLD4 \\nHELLO WORLD5\\n'"
      ]
     },
     "execution_count": 5,
     "metadata": {},
     "output_type": "execute_result"
    }
   ],
   "source": [
    "file2.write(file2_upper)\n",
    "print(file2.tell())\n",
    "file2.seek(0)\n",
    "file2.read()\n"
   ]
  },
  {
   "cell_type": "code",
   "execution_count": 12,
   "metadata": {},
   "outputs": [],
   "source": [
    "file2.close()"
   ]
  },
  {
   "cell_type": "markdown",
   "metadata": {},
   "source": [
    "## 2.2.3"
   ]
  },
  {
   "cell_type": "code",
   "execution_count": 7,
   "metadata": {},
   "outputs": [
    {
     "name": "stdout",
     "output_type": "stream",
     "text": [
      "151\n"
     ]
    },
    {
     "data": {
      "text/plain": [
       "['hello world1 \\n',\n",
       " 'hello world2 \\n',\n",
       " 'HELLO WORLD3 \\n',\n",
       " 'hello world4 \\n',\n",
       " 'hello world5\\n',\n",
       " ' \\n',\n",
       " 'HELLO WORLD1 \\n',\n",
       " 'HELLO WORLD2 \\n',\n",
       " 'HELLO WORLD3 \\n',\n",
       " 'HELLO WORLD4 \\n',\n",
       " 'HELLO WORLD5\\n']"
      ]
     },
     "execution_count": 7,
     "metadata": {},
     "output_type": "execute_result"
    }
   ],
   "source": [
    "file = open(\"text.txt\",\"r+\")\n",
    "lines=file.readlines()\n",
    "lines[2]=lines[2].upper()\n",
    "print(file.tell())\n",
    "lines"
   ]
  },
  {
   "cell_type": "code",
   "execution_count": 8,
   "metadata": {},
   "outputs": [],
   "source": [
    "file.seek(0)\n",
    "file.writelines(lines)"
   ]
  },
  {
   "cell_type": "code",
   "execution_count": 9,
   "metadata": {},
   "outputs": [],
   "source": [
    "file.close()"
   ]
  },
  {
   "cell_type": "markdown",
   "metadata": {},
   "source": [
    "## 2.2.4"
   ]
  },
  {
   "cell_type": "code",
   "execution_count": 10,
   "metadata": {},
   "outputs": [
    {
     "name": "stdout",
     "output_type": "stream",
     "text": [
      "['hello world1 \\n', 'hello world2 \\n', 'HELLO WORLD3 \\n', 'hello world4 \\n', 'hello world5\\n', ' \\n', 'HELLO WORLD1 \\n', 'HELLO WORLD2 \\n', 'HELLO WORLD3 \\n', 'HELLO WORLD4 \\n', 'HELLO WORLD5\\n', '\\n', 'I love python \\n']\n"
     ]
    }
   ],
   "source": [
    "with open(\"text.txt\",\"a+\") as file:\n",
    "    file.write(\"\\nI love python \\n\")\n",
    "    file.seek(0)\n",
    "    print(file.readlines())"
   ]
  },
  {
   "cell_type": "code",
   "execution_count": null,
   "metadata": {},
   "outputs": [],
   "source": []
  }
 ],
 "metadata": {
  "kernelspec": {
   "display_name": "Python 3",
   "language": "python",
   "name": "python3"
  },
  "language_info": {
   "codemirror_mode": {
    "name": "ipython",
    "version": 3
   },
   "file_extension": ".py",
   "mimetype": "text/x-python",
   "name": "python",
   "nbconvert_exporter": "python",
   "pygments_lexer": "ipython3",
   "version": "3.7.6"
  }
 },
 "nbformat": 4,
 "nbformat_minor": 4
}
