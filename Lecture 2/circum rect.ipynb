{
 "cells": [
  {
   "cell_type": "markdown",
   "metadata": {},
   "source": [
    "# Assignment 1.2"
   ]
  },
  {
   "cell_type": "markdown",
   "metadata": {},
   "source": [
    "**This code ask the user to enter the rectangle's parameters ` length and width` and calculate the Circumference.**"
   ]
  },
  {
   "cell_type": "code",
   "execution_count": 10,
   "metadata": {},
   "outputs": [
    {
     "name": "stdout",
     "output_type": "stream",
     "text": [
      "Enter The rectangle's lenght :10\n",
      "Enter The rectangle's width : 20\n",
      " \n",
      " Your Rectangle Circumference is : 60\n"
     ]
    }
   ],
   "source": [
    "in_lenght = int(input(\"Enter The rectangle's lenght :\"))\n",
    "in_width = int(input(\"Enter The rectangle's width : \"))\n",
    "\n",
    "out_put=2 *(in_lenght + in_width )\n",
    "\n",
    "print(\" \\n Your Rectangle Circumference is : \" + str(out_put))"
   ]
  },
  {
   "cell_type": "code",
   "execution_count": null,
   "metadata": {},
   "outputs": [],
   "source": []
  },
  {
   "cell_type": "code",
   "execution_count": null,
   "metadata": {},
   "outputs": [],
   "source": []
  },
  {
   "cell_type": "code",
   "execution_count": null,
   "metadata": {},
   "outputs": [],
   "source": []
  }
 ],
 "metadata": {
  "kernelspec": {
   "display_name": "Python 3",
   "language": "python",
   "name": "python3"
  }
 },
 "nbformat": 4,
 "nbformat_minor": 4
}
