{
 "cells": [
  {
   "cell_type": "markdown",
   "metadata": {
    "collapsed": true
   },
   "source": [
    "# Statements Assessment Test\n",
    "Let's test your knowledge!"
   ]
  },
  {
   "cell_type": "markdown",
   "metadata": {},
   "source": [
    "**Use <code>for</code>, .split(), and <code>if</code> to create a Statement that will print out words that start with 's':**"
   ]
  },
  {
   "cell_type": "code",
   "execution_count": 1,
   "metadata": {},
   "outputs": [],
   "source": [
    "st = 'Print only the words that start with s in this sentence'"
   ]
  },
  {
   "cell_type": "code",
   "execution_count": 2,
   "metadata": {},
   "outputs": [
    {
     "name": "stdout",
     "output_type": "stream",
     "text": [
      "['Print', 'only', 'the', 'words', 'that', 'start', 'with', 's', 'in', 'this', 'sentence']\n"
     ]
    }
   ],
   "source": [
    "x= st.split()\n",
    "print(x)"
   ]
  },
  {
   "cell_type": "code",
   "execution_count": 3,
   "metadata": {
    "scrolled": true
   },
   "outputs": [
    {
     "name": "stdout",
     "output_type": "stream",
     "text": [
      "my answer is :\n",
      "words\n",
      "start\n",
      "s\n",
      "this\n",
      "sentence\n"
     ]
    }
   ],
   "source": [
    "#Code here\n",
    "\n",
    "print(\"my answer is :\")\n",
    "\n",
    "for n in x:\n",
    "    if 's' in n:\n",
    "        print(n)"
   ]
  },
  {
   "cell_type": "markdown",
   "metadata": {},
   "source": [
    "______\n",
    "**Use range() to print all the even numbers from 0 to 10.**"
   ]
  },
  {
   "cell_type": "code",
   "execution_count": 4,
   "metadata": {
    "scrolled": true
   },
   "outputs": [
    {
     "name": "stdout",
     "output_type": "stream",
     "text": [
      "0\n",
      "2\n",
      "4\n",
      "6\n",
      "8\n",
      "10\n"
     ]
    }
   ],
   "source": [
    "#Code Here\n",
    "for n in range (11):\n",
    "    if n % 2 ==0:\n",
    "        print (n)"
   ]
  },
  {
   "cell_type": "code",
   "execution_count": 5,
   "metadata": {},
   "outputs": [
    {
     "name": "stdout",
     "output_type": "stream",
     "text": [
      "[0, 2, 4, 6, 8, 10]\n"
     ]
    }
   ],
   "source": [
    "x=[n for n in range(11) if n%2==0]\n",
    "print (x)"
   ]
  },
  {
   "cell_type": "markdown",
   "metadata": {},
   "source": [
    "___\n",
    "**Use a List Comprehension to create a list of all numbers between 1 and 50 that are divisible by 3.**"
   ]
  },
  {
   "cell_type": "code",
   "execution_count": 6,
   "metadata": {},
   "outputs": [
    {
     "data": {
      "text/plain": [
       "[0, 3, 6, 9, 12, 15, 18, 21, 24, 27, 30, 33, 36, 39, 42, 45, 48]"
      ]
     },
     "execution_count": 6,
     "metadata": {},
     "output_type": "execute_result"
    }
   ],
   "source": [
    "#Code in this cell\n",
    "\n",
    "y= [n for n in range(51)if n % 3 ==0 ]     \n",
    "\n",
    "y"
   ]
  },
  {
   "cell_type": "markdown",
   "metadata": {},
   "source": [
    "_____\n",
    "**Go through the string below and if the length of a word is even print \"even!\"**"
   ]
  },
  {
   "cell_type": "code",
   "execution_count": 7,
   "metadata": {},
   "outputs": [],
   "source": [
    "st = 'Print every word in this sentence that has an even number of letters'"
   ]
  },
  {
   "cell_type": "code",
   "execution_count": 8,
   "metadata": {},
   "outputs": [
    {
     "name": "stdout",
     "output_type": "stream",
     "text": [
      "the length of  (  word     )   is even\n",
      "the length of  (  in     )   is even\n",
      "the length of  (  this     )   is even\n",
      "the length of  (  sentence     )   is even\n",
      "the length of  (  that     )   is even\n",
      "the length of  (  an     )   is even\n",
      "the length of  (  even     )   is even\n",
      "the length of  (  number     )   is even\n",
      "the length of  (  of     )   is even\n"
     ]
    }
   ],
   "source": [
    "#Code in this cell\n",
    "\n",
    "x=st.split()\n",
    "for n in x:\n",
    "    if len(n)%2 ==0:\n",
    "        print (\"the length of  (  {}     )   is even\" .format(n))"
   ]
  },
  {
   "cell_type": "code",
   "execution_count": 9,
   "metadata": {},
   "outputs": [
    {
     "name": "stdout",
     "output_type": "stream",
     "text": [
      "the length of ( word ) is even\n",
      "the length of ( in ) is even\n",
      "the length of ( this ) is even\n",
      "the length of ( sentence ) is even\n",
      "the length of ( that ) is even\n",
      "the length of ( an ) is even\n",
      "the length of ( even ) is even\n",
      "the length of ( number ) is even\n",
      "the length of ( of ) is even\n"
     ]
    }
   ],
   "source": [
    "#Code in this cell\n",
    "\n",
    "x=st.split()\n",
    "for n in x:\n",
    "    if len(n)%2 ==0:\n",
    "        print (f\"the length of ( {n} ) is even\" )"
   ]
  },
  {
   "cell_type": "markdown",
   "metadata": {},
   "source": [
    "____\n",
    "**Write a program that prints the integers from 1 to 100. But for multiples of three print \"Fizz\" instead of the number, and for the multiples of five print \"Buzz\". For numbers which are multiples of both three and five print \"FizzBuzz\".**"
   ]
  },
  {
   "cell_type": "code",
   "execution_count": 10,
   "metadata": {},
   "outputs": [
    {
     "name": "stdout",
     "output_type": "stream",
     "text": [
      "Normal number: 1\n",
      "Normal number: 2\n",
      "Number         3 is Fizz\n",
      "Normal number: 4\n",
      "Number         5 is Buzz\n",
      "Number         6 is Fizz\n",
      "Normal number: 7\n",
      "Normal number: 8\n",
      "Number         9 is Fizz\n",
      "Number         10 is Buzz\n",
      "Normal number: 11\n",
      "Number         12 is Fizz\n",
      "Normal number: 13\n",
      "Normal number: 14\n",
      "Number         15 is Fizz & Buzz\n",
      "Normal number: 16\n",
      "Normal number: 17\n",
      "Number         18 is Fizz\n",
      "Normal number: 19\n",
      "Number         20 is Buzz\n",
      "Number         21 is Fizz\n",
      "Normal number: 22\n",
      "Normal number: 23\n",
      "Number         24 is Fizz\n",
      "Number         25 is Buzz\n",
      "Normal number: 26\n",
      "Number         27 is Fizz\n",
      "Normal number: 28\n",
      "Normal number: 29\n",
      "Number         30 is Fizz & Buzz\n",
      "Normal number: 31\n",
      "Normal number: 32\n",
      "Number         33 is Fizz\n",
      "Normal number: 34\n",
      "Number         35 is Buzz\n",
      "Number         36 is Fizz\n",
      "Normal number: 37\n",
      "Normal number: 38\n",
      "Number         39 is Fizz\n",
      "Number         40 is Buzz\n",
      "Normal number: 41\n",
      "Number         42 is Fizz\n",
      "Normal number: 43\n",
      "Normal number: 44\n",
      "Number         45 is Fizz & Buzz\n",
      "Normal number: 46\n",
      "Normal number: 47\n",
      "Number         48 is Fizz\n",
      "Normal number: 49\n",
      "Number         50 is Buzz\n",
      "Number         51 is Fizz\n",
      "Normal number: 52\n",
      "Normal number: 53\n",
      "Number         54 is Fizz\n",
      "Number         55 is Buzz\n",
      "Normal number: 56\n",
      "Number         57 is Fizz\n",
      "Normal number: 58\n",
      "Normal number: 59\n",
      "Number         60 is Fizz & Buzz\n",
      "Normal number: 61\n",
      "Normal number: 62\n",
      "Number         63 is Fizz\n",
      "Normal number: 64\n",
      "Number         65 is Buzz\n",
      "Number         66 is Fizz\n",
      "Normal number: 67\n",
      "Normal number: 68\n",
      "Number         69 is Fizz\n",
      "Number         70 is Buzz\n",
      "Normal number: 71\n",
      "Number         72 is Fizz\n",
      "Normal number: 73\n",
      "Normal number: 74\n",
      "Number         75 is Fizz & Buzz\n",
      "Normal number: 76\n",
      "Normal number: 77\n",
      "Number         78 is Fizz\n",
      "Normal number: 79\n",
      "Number         80 is Buzz\n",
      "Number         81 is Fizz\n",
      "Normal number: 82\n",
      "Normal number: 83\n",
      "Number         84 is Fizz\n",
      "Number         85 is Buzz\n",
      "Normal number: 86\n",
      "Number         87 is Fizz\n",
      "Normal number: 88\n",
      "Normal number: 89\n",
      "Number         90 is Fizz & Buzz\n",
      "Normal number: 91\n",
      "Normal number: 92\n",
      "Number         93 is Fizz\n",
      "Normal number: 94\n",
      "Number         95 is Buzz\n",
      "Number         96 is Fizz\n",
      "Normal number: 97\n",
      "Normal number: 98\n",
      "Number         99 is Fizz\n",
      "Number         100 is Buzz\n"
     ]
    }
   ],
   "source": [
    "#Code in this cell\n",
    "for n in range(1,101):\n",
    "    if n % 3==0 and n%5 !=0:\n",
    "        print(f'Number         {n} is Fizz')\n",
    "    elif n% 5==0 and n%3 !=0:\n",
    "        print(f\"Number         {n} is Buzz\")\n",
    "    elif n%5==0  and n%3 ==0:\n",
    "        print(f\"Number         {n} is Fizz & Buzz\")\n",
    "    else:\n",
    "        print(f\"Normal number: {n}\")"
   ]
  },
  {
   "cell_type": "markdown",
   "metadata": {},
   "source": [
    "____\n",
    "**Use List Comprehension to create a list of the first letters of every word in the string below:**"
   ]
  },
  {
   "cell_type": "code",
   "execution_count": 11,
   "metadata": {},
   "outputs": [],
   "source": [
    "st = 'Create a list of the first letters of every word in this string'"
   ]
  },
  {
   "cell_type": "code",
   "execution_count": 12,
   "metadata": {},
   "outputs": [
    {
     "name": "stdout",
     "output_type": "stream",
     "text": [
      "The first letter of  ( Create  ) is C \n",
      "The first letter of  ( a  ) is a \n",
      "The first letter of  ( list  ) is l \n",
      "The first letter of  ( of  ) is o \n",
      "The first letter of  ( the  ) is t \n",
      "The first letter of  ( first  ) is f \n",
      "The first letter of  ( letters  ) is l \n",
      "The first letter of  ( of  ) is o \n",
      "The first letter of  ( every  ) is e \n",
      "The first letter of  ( word  ) is w \n",
      "The first letter of  ( in  ) is i \n",
      "The first letter of  ( this  ) is t \n",
      "The first letter of  ( string  ) is s \n"
     ]
    }
   ],
   "source": [
    "#Code in this cell\n",
    "list_f= st.split()\n",
    "\n",
    "for n in list_f:\n",
    "    print(f\"The first letter of  ( {n}  ) is {n[0]} \")"
   ]
  },
  {
   "cell_type": "markdown",
   "metadata": {},
   "source": [
    "### Great Job!"
   ]
  }
 ],
 "metadata": {
  "kernelspec": {
   "display_name": "Python 3",
   "language": "python",
   "name": "python3"
  },
  "language_info": {
   "codemirror_mode": {
    "name": "ipython",
    "version": 3
   },
   "file_extension": ".py",
   "mimetype": "text/x-python",
   "name": "python",
   "nbconvert_exporter": "python",
   "pygments_lexer": "ipython3",
   "version": "3.7.6"
  }
 },
 "nbformat": 4,
 "nbformat_minor": 1
}
