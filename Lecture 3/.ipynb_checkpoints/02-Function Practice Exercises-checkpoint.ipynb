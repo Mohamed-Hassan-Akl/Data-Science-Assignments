{
 "cells": [
  {
   "cell_type": "markdown",
   "metadata": {},
   "source": [
    "# Function Practice Exercises\n",
    "\n",
    "Problems are arranged in increasing difficulty:\n",
    "* Warmup - these can be solved using basic comparisons and methods\n",
    "* Level 1 - these may involve if/then conditional statements and simple methods\n",
    "* Level 2 - these may require iterating over sequences, usually with some kind of loop\n",
    "* Challenging - these will take some creativity to solve"
   ]
  },
  {
   "cell_type": "markdown",
   "metadata": {},
   "source": [
    "## WARMUP SECTION:"
   ]
  },
  {
   "cell_type": "markdown",
   "metadata": {},
   "source": [
    "#### LESSER OF TWO EVENS: Write a function that returns the lesser of two given numbers *if* both numbers are even, but returns the greater if one or both numbers are odd\n",
    "    lesser_of_two_evens(2,4) --> 2\n",
    "    lesser_of_two_evens(2,5) --> 5"
   ]
  },
  {
   "cell_type": "code",
   "execution_count": 1,
   "metadata": {},
   "outputs": [],
   "source": [
    "def lesser_of_two_evens(a,b):\n",
    "#check If two input are even     \n",
    "    if a % 2 ==0 and b %2 ==0:\n",
    "        if a<b:\n",
    "            print(f\"Both  number are even and the lesser is {a}\")\n",
    "        elif b<a:\n",
    "            print(f\"Both  number are even and the lesser is {b}\")\n",
    "        else:\n",
    "            print(\"Both  number are even  and  equals also \")\n",
    "#check If two input are odd             \n",
    "    if a % 2 !=0 and b %2 !=0:    \n",
    "            if a>b:\n",
    "                print(f\"Both  number are odd and the greater is {a}\")\n",
    "            elif b>a:\n",
    "                print(f\"Both  number are odd and the greater is {b}\")\n",
    "            \n",
    "#check If  the first input is even  and second is odd \n",
    "    if a % 2 ==0 and b %2 !=0:\n",
    "        if a>b:\n",
    "            print(f\"One of these  number is odd and the greater is {a}\")\n",
    "        elif b>a:\n",
    "            print(f\"One of these  number is odd and the greater is {b}\")\n",
    "            \n",
    "#check If the first input is odd and the second is even  \n",
    "    if a % 2 !=0 and b %2 ==0:\n",
    "        if a>b:\n",
    "            print(f\"One of these  number is odd and the greater is {a}\")\n",
    "        elif b>a:\n",
    "            print(f\"One of these  number is odd and the greater is {b}\")"
   ]
  },
  {
   "cell_type": "code",
   "execution_count": 2,
   "metadata": {},
   "outputs": [
    {
     "name": "stdout",
     "output_type": "stream",
     "text": [
      "Both  number are even and the lesser is 2\n"
     ]
    }
   ],
   "source": [
    "# Check\n",
    "lesser_of_two_evens(2,4)"
   ]
  },
  {
   "cell_type": "code",
   "execution_count": 3,
   "metadata": {},
   "outputs": [
    {
     "name": "stdout",
     "output_type": "stream",
     "text": [
      "Both  number are even  and  equals also \n"
     ]
    }
   ],
   "source": [
    "lesser_of_two_evens(4,4)"
   ]
  },
  {
   "cell_type": "code",
   "execution_count": 4,
   "metadata": {},
   "outputs": [
    {
     "name": "stdout",
     "output_type": "stream",
     "text": [
      "One of these  number is odd and the greater is 5\n"
     ]
    }
   ],
   "source": [
    "# Check\n",
    "lesser_of_two_evens(2,5)"
   ]
  },
  {
   "cell_type": "code",
   "execution_count": 5,
   "metadata": {},
   "outputs": [
    {
     "name": "stdout",
     "output_type": "stream",
     "text": [
      "Both  number are odd and the greater is 9\n"
     ]
    }
   ],
   "source": [
    "lesser_of_two_evens(9,5)"
   ]
  },
  {
   "cell_type": "markdown",
   "metadata": {},
   "source": [
    "#### ANIMAL CRACKERS: Write a function takes a two-word string and returns True if both words begin with same letter\n",
    "    animal_crackers('Levelheaded Llama') --> True\n",
    "    animal_crackers('Crazy Kangaroo') --> False"
   ]
  },
  {
   "cell_type": "code",
   "execution_count": null,
   "metadata": {},
   "outputs": [],
   "source": []
  },
  {
   "cell_type": "code",
   "execution_count": 6,
   "metadata": {},
   "outputs": [],
   "source": [
    "def animal_crackers(text):\n",
    "    \n",
    "    one_world=text.split()\n",
    "    if one_world[0][0] == one_world[1][0]:\n",
    "        print (f\" The two word begin with the chracter   (  {one_world[1][0]} )\")\n",
    "        print (\" True\")\n",
    "        \n",
    "    else:\n",
    "        print(\"False\")\n",
    "    "
   ]
  },
  {
   "cell_type": "code",
   "execution_count": 7,
   "metadata": {},
   "outputs": [
    {
     "name": "stdout",
     "output_type": "stream",
     "text": [
      " The two word begin with the chracter   (  L )\n",
      " True\n"
     ]
    }
   ],
   "source": [
    "# Check\n",
    "animal_crackers('Levelheaded Llama')"
   ]
  },
  {
   "cell_type": "code",
   "execution_count": 8,
   "metadata": {},
   "outputs": [
    {
     "name": "stdout",
     "output_type": "stream",
     "text": [
      "False\n"
     ]
    }
   ],
   "source": [
    "# Check\n",
    "animal_crackers('Crazy Kangaroo')"
   ]
  },
  {
   "cell_type": "markdown",
   "metadata": {},
   "source": [
    "#### MAKES TWENTY: Given two integers, return True if the sum of the integers is 20 *or* if one of the integers is 20. If not, return False\n",
    "\n",
    "    makes_twenty(20,10) --> True\n",
    "    makes_twenty(12,8) --> True\n",
    "    makes_twenty(2,3) --> False"
   ]
  },
  {
   "cell_type": "code",
   "execution_count": null,
   "metadata": {},
   "outputs": [],
   "source": []
  },
  {
   "cell_type": "code",
   "execution_count": null,
   "metadata": {},
   "outputs": [],
   "source": [
    "\n",
    "    "
   ]
  },
  {
   "cell_type": "code",
   "execution_count": 9,
   "metadata": {},
   "outputs": [],
   "source": [
    "def makes_twenty(n1,n2):\n",
    "    s=n1+n2\n",
    "    \n",
    "    if n1 == 20:\n",
    "        print(\"first input is :20\")\n",
    "    elif n2==20:\n",
    "        print(\"Second input is 20\")\n",
    "\n",
    "    elif s ==20:\n",
    "        print (\" The sum is : 20\")\n",
    "    else:\n",
    "        print(\"false\")\n"
   ]
  },
  {
   "cell_type": "code",
   "execution_count": 10,
   "metadata": {},
   "outputs": [
    {
     "name": "stdout",
     "output_type": "stream",
     "text": [
      "first input is :20\n"
     ]
    }
   ],
   "source": [
    "# Check\n",
    "makes_twenty(20,10)"
   ]
  },
  {
   "cell_type": "code",
   "execution_count": 11,
   "metadata": {},
   "outputs": [
    {
     "name": "stdout",
     "output_type": "stream",
     "text": [
      "Second input is 20\n"
     ]
    }
   ],
   "source": [
    "makes_twenty(100,20)"
   ]
  },
  {
   "cell_type": "code",
   "execution_count": 12,
   "metadata": {},
   "outputs": [
    {
     "name": "stdout",
     "output_type": "stream",
     "text": [
      " The sum is : 20\n"
     ]
    }
   ],
   "source": [
    "# Check\n",
    "makes_twenty(12,8)"
   ]
  },
  {
   "cell_type": "code",
   "execution_count": 13,
   "metadata": {},
   "outputs": [
    {
     "name": "stdout",
     "output_type": "stream",
     "text": [
      "false\n"
     ]
    }
   ],
   "source": [
    "# Check\n",
    "makes_twenty(2,3)"
   ]
  },
  {
   "cell_type": "markdown",
   "metadata": {},
   "source": [
    "# LEVEL 1 PROBLEMS"
   ]
  },
  {
   "cell_type": "markdown",
   "metadata": {},
   "source": [
    "#### OLD MACDONALD: Write a function that capitalizes the first and fourth letters of a name\n",
    "     \n",
    "    old_macdonald('macdonald') --> MacDonald\n",
    "    \n",
    "Note: `'macdonald'.capitalize()` returns `'Macdonald'`"
   ]
  },
  {
   "cell_type": "code",
   "execution_count": 14,
   "metadata": {},
   "outputs": [
    {
     "name": "stdout",
     "output_type": "stream",
     "text": [
      "abcd\n",
      "<class 'str'>\n",
      "['a', 'b', 'c', 'd']\n",
      "['A', 'b', 'c', 'd']\n"
     ]
    },
    {
     "data": {
      "text/plain": [
       "'Abcd'"
      ]
     },
     "execution_count": 14,
     "metadata": {},
     "output_type": "execute_result"
    }
   ],
   "source": [
    "x=\"abcd\"\n",
    "print(x)\n",
    "print(type(x))\n",
    "\n",
    "x_list=list(x)\n",
    "print(x_list)\n",
    "\n",
    "x_list[0]=\"A\"\n",
    "print(x_list)\n",
    "\n",
    "yoy= \"\".join(x_list)\n",
    "yoy"
   ]
  },
  {
   "cell_type": "code",
   "execution_count": null,
   "metadata": {},
   "outputs": [],
   "source": []
  },
  {
   "cell_type": "code",
   "execution_count": 15,
   "metadata": {},
   "outputs": [],
   "source": [
    "def old_macdonald(name):\n",
    "    print(\"the old one:  \"+ name)\n",
    "    #take the 0,3 character \n",
    "    name_0=name[0].upper()\n",
    "    name_3=name[3].upper()\n",
    "    # convert the string into list to have ability to reassig 0,3 character\n",
    "    name_list= list(name)\n",
    "    #reassign \n",
    "    name_list[0]=name_0\n",
    "    name_list[3]=name_3\n",
    "    #convert list to string to have abiltity to return correctly\n",
    "    name_final =\"\".join(name_list)\n",
    "    print(\"the new one:  \" + name_final)\n",
    "    \n",
    "    \n",
    "    \n",
    "\n",
    "            \n",
    "    "
   ]
  },
  {
   "cell_type": "code",
   "execution_count": 16,
   "metadata": {},
   "outputs": [
    {
     "name": "stdout",
     "output_type": "stream",
     "text": [
      "the old one:  macdonald\n",
      "the new one:  MacDonald\n"
     ]
    }
   ],
   "source": [
    "# Check\n",
    "old_macdonald('macdonald')"
   ]
  },
  {
   "cell_type": "markdown",
   "metadata": {},
   "source": [
    "#### MASTER YODA: Given a sentence, return a sentence with the words reversed\n",
    "\n",
    "    master_yoda('I am home') --> 'home am I'\n",
    "    master_yoda('We are ready') --> 'ready are We'\n",
    "    \n",
    "Note: The .join() method may be useful here. The .join() method allows you to join together strings in a list with some connector string. For example, some uses of the .join() method:\n",
    "\n",
    "    >>> \"--\".join(['a','b','c'])\n",
    "    >>> 'a--b--c'\n",
    "\n",
    "This means if you had a list of words you wanted to turn back into a sentence, you could just join them with a single space string:\n",
    "\n",
    "    >>> \" \".join(['Hello','world'])\n",
    "    >>> \"Hello world\""
   ]
  },
  {
   "cell_type": "code",
   "execution_count": 17,
   "metadata": {},
   "outputs": [],
   "source": [
    "def master_yoda(text):\n",
    "    \n",
    "    list_dummy=[]\n",
    "    list_text= text.split()\n",
    "    list_dummy=list_text[0]\n",
    "    list_text[0]=list_text[2]\n",
    "    list_text[2]=list_dummy\n",
    "    print(\" \".join(list_text))\n",
    "    "
   ]
  },
  {
   "cell_type": "code",
   "execution_count": 18,
   "metadata": {},
   "outputs": [
    {
     "name": "stdout",
     "output_type": "stream",
     "text": [
      "home am I\n"
     ]
    }
   ],
   "source": [
    "# Check\n",
    "master_yoda('I am home')"
   ]
  },
  {
   "cell_type": "code",
   "execution_count": 19,
   "metadata": {},
   "outputs": [
    {
     "name": "stdout",
     "output_type": "stream",
     "text": [
      "ready are We\n"
     ]
    }
   ],
   "source": [
    "# Check\n",
    "master_yoda('We are ready')"
   ]
  },
  {
   "cell_type": "markdown",
   "metadata": {},
   "source": [
    "#### ALMOST THERE: Given an integer n, return True if n is within 10 of either 100 or 200\n",
    "\n",
    "    almost_there(90) --> True\n",
    "    almost_there(104) --> True\n",
    "    almost_there(150) --> False\n",
    "    almost_there(209) --> True\n",
    "    \n",
    "NOTE: `abs(num)` returns the absolute value of a number"
   ]
  },
  {
   "cell_type": "code",
   "execution_count": null,
   "metadata": {},
   "outputs": [],
   "source": []
  },
  {
   "cell_type": "code",
   "execution_count": 20,
   "metadata": {},
   "outputs": [],
   "source": [
    "def almost_there(x):\n",
    "    # to detect number between 90 :100 \n",
    "    if x < 100:\n",
    "        if abs(100-x) <= 10:\n",
    "            print (\"True\")\n",
    "        else:\n",
    "            print(\"false\")\n",
    "    # to detect number between 100 :110         \n",
    "    elif x>100 and x<110:\n",
    "        if abs(100-x) <= 10:\n",
    "            print (\"True\")\n",
    "    # to detect number between 190 :200 \n",
    "    elif x < 200 and x> 190:\n",
    "        if abs(200-x) <= 10:\n",
    "            print (\"True\")\n",
    "    # to detect number between 200 :210         \n",
    "    elif x>200 and x<210:\n",
    "        if abs(200-x) <= 10:\n",
    "            print (\"True\")   \n",
    "    else:\n",
    "        print(\"False\")\n"
   ]
  },
  {
   "cell_type": "code",
   "execution_count": 21,
   "metadata": {},
   "outputs": [
    {
     "name": "stdout",
     "output_type": "stream",
     "text": [
      "True\n"
     ]
    }
   ],
   "source": [
    "# Check\n",
    "almost_there(104)"
   ]
  },
  {
   "cell_type": "code",
   "execution_count": 22,
   "metadata": {},
   "outputs": [
    {
     "name": "stdout",
     "output_type": "stream",
     "text": [
      "True\n"
     ]
    }
   ],
   "source": [
    "almost_there(94)"
   ]
  },
  {
   "cell_type": "code",
   "execution_count": 23,
   "metadata": {},
   "outputs": [
    {
     "name": "stdout",
     "output_type": "stream",
     "text": [
      "false\n"
     ]
    }
   ],
   "source": [
    "almost_there(10)"
   ]
  },
  {
   "cell_type": "code",
   "execution_count": 24,
   "metadata": {},
   "outputs": [
    {
     "name": "stdout",
     "output_type": "stream",
     "text": [
      "False\n"
     ]
    }
   ],
   "source": [
    "# Check\n",
    "almost_there(150)"
   ]
  },
  {
   "cell_type": "code",
   "execution_count": 25,
   "metadata": {},
   "outputs": [
    {
     "name": "stdout",
     "output_type": "stream",
     "text": [
      "True\n"
     ]
    }
   ],
   "source": [
    "# Check\n",
    "almost_there(209)"
   ]
  },
  {
   "cell_type": "code",
   "execution_count": 26,
   "metadata": {},
   "outputs": [
    {
     "name": "stdout",
     "output_type": "stream",
     "text": [
      "True\n"
     ]
    }
   ],
   "source": [
    "almost_there(195)"
   ]
  },
  {
   "cell_type": "markdown",
   "metadata": {},
   "source": [
    "# LEVEL 2 PROBLEMS"
   ]
  },
  {
   "cell_type": "markdown",
   "metadata": {},
   "source": [
    "#### FIND 33: \n",
    "\n",
    "Given a list of ints, return True if the array contains a 3 next to a 3 somewhere.\n",
    "\n",
    "    has_33([1, 3, 3]) → True\n",
    "    has_33([1, 3, 1, 3]) → False\n",
    "    has_33([3, 1, 3]) → False"
   ]
  },
  {
   "cell_type": "markdown",
   "metadata": {},
   "source": [
    "# Draft cell for me"
   ]
  },
  {
   "cell_type": "code",
   "execution_count": 27,
   "metadata": {},
   "outputs": [
    {
     "name": "stdout",
     "output_type": "stream",
     "text": [
      "True\n",
      "false\n",
      "y=1\n",
      "false\n",
      "y=2\n",
      "false\n",
      "y=3\n",
      "true\n",
      "the doubled three exist on positin 4 and 5\n",
      "y=4\n"
     ]
    }
   ],
   "source": [
    "x=\" sssss\"\n",
    "result= \"s\" in x\n",
    "print (result)\n",
    "\n",
    "y=0\n",
    "x=[1,8,98,3,3]\n",
    "\n",
    "for n in x:\n",
    "    #print(len(x))\n",
    "    if n==3:\n",
    "        if x[y+1]==3:\n",
    "            print(\"true\")\n",
    "            print(f\"the doubled three exist on positin {y+1} and {y+2}\")\n",
    "           # y-=1\n",
    "            \n",
    "    else:\n",
    "        print(\"false\")\n",
    "    y+=1\n",
    "    print(f\"y={y}\")\n",
    "    if y== len(x)-1:\n",
    "        break\n",
    "    \n",
    "\n"
   ]
  },
  {
   "cell_type": "code",
   "execution_count": 28,
   "metadata": {},
   "outputs": [],
   "source": [
    "def has_33(x):\n",
    "#dummy varible used to compare iteam who's value is 3 with iteam next to him\n",
    "    y=0\n",
    "\n",
    "    for n in x:\n",
    "        #print(len(x))\n",
    "        if n==3:\n",
    "            if x[y+1]==3:\n",
    "                print(f\"the doubled three exist on positin {y+1} and {y+2}\")\n",
    "\n",
    "\n",
    "        else:\n",
    "            print(\"false\")\n",
    "        #the increment here is made to make dummy varible compatible  with iteration with for loop \n",
    "        y+=1\n",
    "        # to prevent the code from checking the sepical case which is a 3 at the last position in the list \n",
    "        if y== len(x)-1:\n",
    "            break\n",
    "    \n"
   ]
  },
  {
   "cell_type": "code",
   "execution_count": 29,
   "metadata": {},
   "outputs": [
    {
     "name": "stdout",
     "output_type": "stream",
     "text": [
      "false\n",
      "the doubled three exist on positin 2 and 3\n"
     ]
    }
   ],
   "source": [
    "# Check\n",
    "has_33([1, 3, 3])"
   ]
  },
  {
   "cell_type": "code",
   "execution_count": 30,
   "metadata": {},
   "outputs": [
    {
     "name": "stdout",
     "output_type": "stream",
     "text": [
      "false\n",
      "the doubled three exist on positin 2 and 3\n",
      "false\n",
      "false\n",
      "false\n",
      "the doubled three exist on positin 7 and 8\n"
     ]
    }
   ],
   "source": [
    "# Check\n",
    "has_33([1, 3, 3,5,8,9,3,3])"
   ]
  },
  {
   "cell_type": "code",
   "execution_count": 31,
   "metadata": {},
   "outputs": [
    {
     "name": "stdout",
     "output_type": "stream",
     "text": [
      "false\n",
      "false\n"
     ]
    }
   ],
   "source": [
    "# Check\n",
    "has_33([1, 3, 1, 3])"
   ]
  },
  {
   "cell_type": "code",
   "execution_count": 32,
   "metadata": {},
   "outputs": [
    {
     "name": "stdout",
     "output_type": "stream",
     "text": [
      "false\n"
     ]
    }
   ],
   "source": [
    "# Check\n",
    "has_33([3, 1, 3])"
   ]
  },
  {
   "cell_type": "markdown",
   "metadata": {},
   "source": [
    "#### PAPER DOLL: Given a string, return a string where for every character in the original there are three characters\n",
    "    paper_doll('Hello') --> 'HHHeeellllllooo'\n",
    "    paper_doll('Mississippi') --> 'MMMiiissssssiiippppppiii'"
   ]
  },
  {
   "cell_type": "markdown",
   "metadata": {},
   "source": [
    "**Draft cell for me**"
   ]
  },
  {
   "cell_type": "code",
   "execution_count": 33,
   "metadata": {},
   "outputs": [
    {
     "name": "stdout",
     "output_type": "stream",
     "text": [
      "hhh\n",
      "5\n",
      "['hhh', 'eee', 'lll', 'lll', 'ooo']\n",
      "hhheeellllllooo\n"
     ]
    }
   ],
   "source": [
    "y=[]\n",
    "x=\"hello\"\n",
    "print(x[0]*3)\n",
    "print(len(x))\n",
    "\n",
    "for n in range(len(x)):    \n",
    "    y.append(x[n]*3)\n",
    "   \n",
    "print(y)\n",
    "result=\"\".join(y)\n",
    "print (result)\n",
    "    \n",
    "    \n",
    "\n",
    "    "
   ]
  },
  {
   "cell_type": "code",
   "execution_count": 34,
   "metadata": {},
   "outputs": [],
   "source": [
    "def paper_doll(text):\n",
    "    y=[]\n",
    "    for n in range(len(text)):\n",
    "        y.append(text[n]*3)\n",
    "        \n",
    "    return \"\".join(y)"
   ]
  },
  {
   "cell_type": "code",
   "execution_count": 35,
   "metadata": {},
   "outputs": [
    {
     "data": {
      "text/plain": [
       "'HHHeeellllllooo'"
      ]
     },
     "execution_count": 35,
     "metadata": {},
     "output_type": "execute_result"
    }
   ],
   "source": [
    "# Check\n",
    "paper_doll('Hello')"
   ]
  },
  {
   "cell_type": "code",
   "execution_count": 36,
   "metadata": {},
   "outputs": [
    {
     "data": {
      "text/plain": [
       "'MMMiiissssssiiissssssiiippppppiii'"
      ]
     },
     "execution_count": 36,
     "metadata": {},
     "output_type": "execute_result"
    }
   ],
   "source": [
    "# Check\n",
    "paper_doll('Mississippi')"
   ]
  },
  {
   "cell_type": "markdown",
   "metadata": {},
   "source": [
    "### BLACKJACK: Given three integers between 1 and 11, \n",
    "\n",
    "if their sum is less than or equal to 21, return their sum.  If their sum exceeds 21 *and* there's an eleven, reduce the total sum by 10.\n",
    "\n",
    "Finally, if the sum (even after adjustment) exceeds 21, return 'BUST'\n",
    "\n",
    "\n",
    "    blackjack(5,6,7) --> 18\n",
    "    blackjack(9,9,9) --> 'BUST'\n",
    "    blackjack(9,9,11) --> 19"
   ]
  },
  {
   "cell_type": "code",
   "execution_count": 37,
   "metadata": {},
   "outputs": [
    {
     "data": {
      "text/plain": [
       "True"
      ]
     },
     "execution_count": 37,
     "metadata": {},
     "output_type": "execute_result"
    }
   ],
   "source": [
    "x=[11,3,6]\n",
    "11 in x"
   ]
  },
  {
   "cell_type": "code",
   "execution_count": 38,
   "metadata": {},
   "outputs": [],
   "source": [
    "def blackjack(a=5,b=6,c=7):\n",
    "    sum_total=a+b+c\n",
    "    if sum_total <= 21:\n",
    "        print(f\"total sum is :{sum_total}\")\n",
    "    elif a ==11 or b==11 or c ==11 :\n",
    "        sum_total-=10\n",
    "        print(f\"we get one  item  have value 11 and  the sum is {sum_total}\" )\n",
    "    elif sum_total >= 21:\n",
    "        print(\"BUST\")\n",
    "        \n",
    "        \n",
    "    "
   ]
  },
  {
   "cell_type": "code",
   "execution_count": 39,
   "metadata": {},
   "outputs": [
    {
     "name": "stdout",
     "output_type": "stream",
     "text": [
      "total sum is :18\n"
     ]
    }
   ],
   "source": [
    "# Check\n",
    "blackjack(5,6,7)"
   ]
  },
  {
   "cell_type": "code",
   "execution_count": 40,
   "metadata": {},
   "outputs": [
    {
     "name": "stdout",
     "output_type": "stream",
     "text": [
      "BUST\n"
     ]
    }
   ],
   "source": [
    "# Check\n",
    "blackjack(9,9,9)"
   ]
  },
  {
   "cell_type": "code",
   "execution_count": 41,
   "metadata": {},
   "outputs": [
    {
     "name": "stdout",
     "output_type": "stream",
     "text": [
      "we get one  item  have value 11 and  the sum is 19\n"
     ]
    }
   ],
   "source": [
    "# Check\n",
    "blackjack(9,9,11)"
   ]
  },
  {
   "cell_type": "markdown",
   "metadata": {},
   "source": [
    "#### SUMMER OF '69: Return the sum of the numbers in the array, except ignore sections of numbers starting with a 6 and extending to the next 9 (every 6 will be followed by at least one 9). Return 0 for no numbers.\n",
    " \n",
    "    summer_69([1, 3, 5]) --> 9\n",
    "    summer_69([4, 5, 6, 7, 8, 9]) --> 9\n",
    "    summer_69([2, 1, 6, 9, 11]) --> 14"
   ]
  },
  {
   "cell_type": "code",
   "execution_count": null,
   "metadata": {},
   "outputs": [],
   "source": [
    "\n"
   ]
  },
  {
   "cell_type": "code",
   "execution_count": 42,
   "metadata": {},
   "outputs": [],
   "source": [
    "def summer_69(arr):\n",
    "    if 6 in arr:\n",
    "        index_6=arr.index(6)\n",
    "        if 9 in arr:\n",
    "            index_9=arr.index(9)+1\n",
    "            del arr[ index_6: index_9]\n",
    "            print(f\" the new list after editing is {arr}\")\n",
    "            return(sum(arr))\n",
    "\n",
    "    else:\n",
    "        sum(arr)\n",
    "        if sum(arr)==0:\n",
    "            print(\" the result is : 0\")\n",
    "        else:\n",
    "            return (sum(arr))\n",
    "         \n",
    "    \n",
    "    \n",
    "        \n",
    "\n",
    "    \n",
    "    "
   ]
  },
  {
   "cell_type": "code",
   "execution_count": 43,
   "metadata": {},
   "outputs": [
    {
     "data": {
      "text/plain": [
       "9"
      ]
     },
     "execution_count": 43,
     "metadata": {},
     "output_type": "execute_result"
    }
   ],
   "source": [
    "# Check\n",
    "summer_69([1, 3, 5])"
   ]
  },
  {
   "cell_type": "code",
   "execution_count": 44,
   "metadata": {},
   "outputs": [
    {
     "name": "stdout",
     "output_type": "stream",
     "text": [
      " the result is : 0\n"
     ]
    }
   ],
   "source": [
    "summer_69([])"
   ]
  },
  {
   "cell_type": "code",
   "execution_count": 45,
   "metadata": {},
   "outputs": [
    {
     "name": "stdout",
     "output_type": "stream",
     "text": [
      " the new list after editing is [4, 5]\n"
     ]
    },
    {
     "data": {
      "text/plain": [
       "9"
      ]
     },
     "execution_count": 45,
     "metadata": {},
     "output_type": "execute_result"
    }
   ],
   "source": [
    "# Check\n",
    "summer_69([4, 5, 6, 7, 8, 9])"
   ]
  },
  {
   "cell_type": "code",
   "execution_count": 46,
   "metadata": {},
   "outputs": [
    {
     "name": "stdout",
     "output_type": "stream",
     "text": [
      " the new list after editing is [2, 1, 11]\n"
     ]
    },
    {
     "data": {
      "text/plain": [
       "14"
      ]
     },
     "execution_count": 46,
     "metadata": {},
     "output_type": "execute_result"
    }
   ],
   "source": [
    "# Check\n",
    "summer_69([2, 1, 6, 9, 11])"
   ]
  },
  {
   "cell_type": "markdown",
   "metadata": {},
   "source": [
    "# CHALLENGING PROBLEMS"
   ]
  },
  {
   "cell_type": "markdown",
   "metadata": {},
   "source": [
    "#### SPY GAME: Write a function that takes in a list of integers and returns True if it contains 007 in order\n",
    "\n",
    "     spy_game([1,2,4,0,0,7,5]) --> True\n",
    "     spy_game([1,0,2,4,0,5,7]) --> True\n",
    "     spy_game([1,7,2,0,4,5,0]) --> False\n"
   ]
  },
  {
   "cell_type": "code",
   "execution_count": 47,
   "metadata": {},
   "outputs": [],
   "source": [
    "def spy_game(nums=[1,2,4,0,0,7,5]):\n",
    "    \n",
    "    for n in range(len(nums)):\n",
    "        # I am looking for  my battern 007 and avoid the special case which is 0 is at the last position of the list\n",
    "        if nums[n] == 0 and n < len(nums)-1 :\n",
    "            if nums[n+1] ==0:\n",
    "                if nums[n+2]==7:\n",
    "                    print(f\" I catch 007 in order in position {n} , {n+1} and {n+2}\")\n",
    "                    break\n",
    "        # to check it we are in the last iteration             \n",
    "        elif n==len(nums)-1:\n",
    "            print(\"false\")\n",
    "            \n",
    "        else:\n",
    "             continue\n",
    "           \n"
   ]
  },
  {
   "cell_type": "code",
   "execution_count": 48,
   "metadata": {},
   "outputs": [
    {
     "name": "stdout",
     "output_type": "stream",
     "text": [
      " I catch 007 in order in position 3 , 4 and 5\n"
     ]
    }
   ],
   "source": [
    "# Check\n",
    "spy_game([1,2,4,0,0,7,5])"
   ]
  },
  {
   "cell_type": "code",
   "execution_count": 49,
   "metadata": {},
   "outputs": [
    {
     "name": "stdout",
     "output_type": "stream",
     "text": [
      "false\n"
     ]
    }
   ],
   "source": [
    "# Check\n",
    "spy_game([1,0,2,4,0,5,7])"
   ]
  },
  {
   "cell_type": "code",
   "execution_count": 50,
   "metadata": {},
   "outputs": [
    {
     "name": "stdout",
     "output_type": "stream",
     "text": [
      "false\n"
     ]
    }
   ],
   "source": [
    "# Check\n",
    "spy_game([1,7,2,0,4,5,0])"
   ]
  },
  {
   "cell_type": "markdown",
   "metadata": {},
   "source": [
    "#### COUNT PRIMES: Write a function that returns the *number* of prime numbers that exist up to and including a given number\n",
    "    count_primes(100) --> 25\n",
    "\n",
    "By convention, 0 and 1 are not prime."
   ]
  },
  {
   "cell_type": "code",
   "execution_count": null,
   "metadata": {},
   "outputs": [],
   "source": []
  },
  {
   "cell_type": "code",
   "execution_count": null,
   "metadata": {},
   "outputs": [],
   "source": []
  },
  {
   "cell_type": "code",
   "execution_count": 51,
   "metadata": {},
   "outputs": [],
   "source": [
    "\n",
    "def count_primes(input_var):\n",
    "    count=0\n",
    "    for x in range(input_var+1):\n",
    "        num=x\n",
    "        #print(f\"num = x {num},{x}\")\n",
    "        for n in range(num):\n",
    "            if num == 2 :\n",
    "                print(f'   find {num}  as prime  number')\n",
    "                count+=1\n",
    "                break\n",
    "            elif num ==3 :\n",
    "                print(f'   find {num}  as prime  number')\n",
    "                count+=1\n",
    "                break\n",
    "            elif n==0 or n==1:\n",
    "                continue\n",
    "\n",
    "            elif num %(n) == 0:\n",
    "                #print(\"not prime\")\n",
    "                break\n",
    "            else:\n",
    "                if  num% (n+1) == 0:\n",
    "                    #print(f\"    {num}    is not prime number after second check\")\n",
    "                    break\n",
    "                else: \n",
    "                    print(f\"   find {num}  as prime number\")\n",
    "                    count+=1            \n",
    "                    break\n",
    "    print (f\"the total prime number between 0 and {input_var} is  :{count}\")                       \n",
    "\n",
    "        "
   ]
  },
  {
   "cell_type": "code",
   "execution_count": 52,
   "metadata": {},
   "outputs": [
    {
     "name": "stdout",
     "output_type": "stream",
     "text": [
      "   find 2  as prime  number\n",
      "   find 3  as prime  number\n",
      "   find 5  as prime number\n",
      "   find 7  as prime number\n",
      "   find 11  as prime number\n",
      "the total prime number between 0 and 11 is  :5\n"
     ]
    }
   ],
   "source": [
    "# Check\n",
    "count_primes(11)"
   ]
  },
  {
   "cell_type": "code",
   "execution_count": 53,
   "metadata": {},
   "outputs": [
    {
     "name": "stdout",
     "output_type": "stream",
     "text": [
      "   find 2  as prime  number\n",
      "   find 3  as prime  number\n",
      "   find 5  as prime number\n",
      "   find 7  as prime number\n",
      "   find 11  as prime number\n",
      "   find 13  as prime number\n",
      "   find 17  as prime number\n",
      "   find 19  as prime number\n",
      "   find 23  as prime number\n",
      "   find 25  as prime number\n",
      "   find 29  as prime number\n",
      "   find 31  as prime number\n",
      "   find 35  as prime number\n",
      "   find 37  as prime number\n",
      "   find 41  as prime number\n",
      "   find 43  as prime number\n",
      "   find 47  as prime number\n",
      "   find 49  as prime number\n",
      "the total prime number between 0 and 50 is  :18\n"
     ]
    }
   ],
   "source": [
    "# Check\n",
    "count_primes(50)"
   ]
  },
  {
   "cell_type": "markdown",
   "metadata": {},
   "source": [
    "### Just for fun:\n",
    "#### PRINT BIG: Write a function that takes in a single letter, and returns a 5x5 representation of that letter\n",
    "    print_big('a')\n",
    "    \n",
    "    out:   *  \n",
    "          * *\n",
    "         *****\n",
    "         *   *\n",
    "         *   *\n",
    "HINT: Consider making a dictionary of possible patterns, and mapping the alphabet to specific 5-line combinations of patterns. <br>For purposes of this exercise, it's ok if your dictionary stops at \"E\"."
   ]
  },
  {
   "cell_type": "code",
   "execution_count": null,
   "metadata": {},
   "outputs": [],
   "source": []
  },
  {
   "cell_type": "code",
   "execution_count": 105,
   "metadata": {},
   "outputs": [],
   "source": [
    "def print_big(input_letter):\n",
    "    \n",
    "    if input_letter == \"A\" or  \"a\":\n",
    "        print(f\"The out pattern is :{dic_letter[input_letter]}\")\n",
    "\n",
    "    elif input_letter == \"B\" or \"b\":\n",
    "        print(f\"The out pattern is :{dic_letter[input_letter]}\")\n",
    "\n",
    "    elif input_letter == \"C\" or \"c\":\n",
    "        print(f\"The out pattern is :{dic_letter[input_letter]}\")\n",
    "\n",
    "    elif input_letter == \"D\" or \"d\":\n",
    "        print(f\"The out pattern is :{dic_letter[input_letter]}\")\n",
    "\n",
    "    elif input_letter == \"E\" or \"e\":\n",
    "        print(f\"The out pattern is :{dic_letter[input_letter]}\")    "
   ]
  },
  {
   "cell_type": "code",
   "execution_count": 104,
   "metadata": {
    "scrolled": true
   },
   "outputs": [
    {
     "name": "stdout",
     "output_type": "stream",
     "text": [
      "The out pattern is :******\n"
     ]
    }
   ],
   "source": [
    "print_big('A')"
   ]
  },
  {
   "cell_type": "code",
   "execution_count": 106,
   "metadata": {},
   "outputs": [
    {
     "name": "stdout",
     "output_type": "stream",
     "text": [
      "The out pattern is :&&&&&&&\n"
     ]
    }
   ],
   "source": [
    "print_big('B')"
   ]
  },
  {
   "cell_type": "code",
   "execution_count": 107,
   "metadata": {},
   "outputs": [
    {
     "name": "stdout",
     "output_type": "stream",
     "text": [
      "The out pattern is :@@@@@@\n"
     ]
    }
   ],
   "source": [
    "print_big('E')"
   ]
  },
  {
   "cell_type": "markdown",
   "metadata": {},
   "source": [
    "## Great Job!"
   ]
  }
 ],
 "metadata": {
  "kernelspec": {
   "display_name": "Python 3",
   "language": "python",
   "name": "python3"
  },
  "language_info": {
   "codemirror_mode": {
    "name": "ipython",
    "version": 3
   },
   "file_extension": ".py",
   "mimetype": "text/x-python",
   "name": "python",
   "nbconvert_exporter": "python",
   "pygments_lexer": "ipython3",
   "version": "3.7.6"
  }
 },
 "nbformat": 4,
 "nbformat_minor": 2
}
