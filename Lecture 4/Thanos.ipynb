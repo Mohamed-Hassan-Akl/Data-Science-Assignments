{
 "cells": [
  {
   "cell_type": "markdown",
   "metadata": {},
   "source": [
    "Make project like Thanos project with data (50 images) to read all files and rename these files with random names."
   ]
  },
  {
   "cell_type": "code",
   "execution_count": 142,
   "metadata": {},
   "outputs": [],
   "source": [
    "import os\n",
    "import random\n",
    "import string"
   ]
  },
  {
   "cell_type": "code",
   "execution_count": 143,
   "metadata": {},
   "outputs": [
    {
     "name": "stdout",
     "output_type": "stream",
     "text": [
      "the path you are in is : G:\\The way to singularity\\AI and Data science Diploma\\04-\\assignment\\The answer\\universe \n",
      "\n"
     ]
    }
   ],
   "source": [
    "# to know which dirction Iam in:\n",
    "\n",
    "print(f\"the path you are in is : {os.getcwd()} \\n\")\n",
    "\n",
    "#change the dirction to read from universe file \n",
    "\n",
    "#os.chdir('universe')\n",
    "\n",
    "\n",
    "#take the original  name file form thanos folders\n",
    "original_names=os.listdir()\n",
    "\n",
    "\n"
   ]
  },
  {
   "cell_type": "code",
   "execution_count": 144,
   "metadata": {},
   "outputs": [],
   "source": [
    "def change_name_files():\n",
    "    #generate a randam name to use it to rename Thanos files \n",
    "    letters = string.ascii_lowercase\n",
    "    numbers = string.digits\n",
    "\n",
    "\n",
    "\n",
    "\n",
    "    for i in (original_names):\n",
    "        l=''.join(random.choice(letters) for i in range(10)) \n",
    "        n=''.join(random.choice(numbers) for i in range(3)) \n",
    "        total = l+n \n",
    "        os.rename(i,total)\n",
    "\n",
    "    new_names=os.listdir()\n",
    "    print(f\"{original_names} \\n \\n\")\n",
    "    print(f\"{new_names}\\n \\n \")\n"
   ]
  },
  {
   "cell_type": "code",
   "execution_count": 145,
   "metadata": {},
   "outputs": [
    {
     "name": "stdout",
     "output_type": "stream",
     "text": [
      "['cover001.png', 'cover002.png', 'cover003.png', 'cover004.png', 'cover005.png', 'cover006.png', 'cover007.png', 'cover008.png', 'cover009.png', 'cover010.png', 'cover011.png', 'cover012.png', 'cover013.png', 'cover014.png', 'cover015.png', 'cover016.png', 'cover017.png', 'cover018.png', 'cover019.png', 'cover020.png', 'cover021.png', 'cover022.png', 'cover023.png', 'cover024.png', 'cover025.png', 'cover026.png', 'cover027.png', 'cover028.png', 'cover029.png', 'cover030.png', 'cover031.png', 'cover032.png', 'cover033.png', 'cover034.png', 'cover035.png', 'cover036.png', 'cover037.png', 'cover038.png', 'cover039.png', 'cover040.png', 'cover041.png', 'cover042.png', 'cover043.png', 'cover044.png', 'cover045.png', 'cover046.png', 'cover047.png', 'cover048.png', 'cover049.png', 'cover050.png'] \n",
      " \n",
      "\n",
      "['aaioipfzxi735', 'aeytccxogq433', 'bitsxpxnye273', 'bwmqfzyaul648', 'cmbwwngpxx025', 'ctwecxpgkn740', 'czidvwkgbw331', 'dfbpsuddcd622', 'eghcvnjhjd378', 'emaxeqgelu301', 'falmnriuqv916', 'fbkrlntkly262', 'gcogogedip239', 'ghsaawegln147', 'gtocboouqy249', 'guabkymoez958', 'huinfqumnb490', 'ibcbcetxsy898', 'jkdziwoasj956', 'kktljyicnv571', 'klkdcajnwh062', 'ldngjvrhtw050', 'lwcxxakyam606', 'mfwmiwcmvm971', 'mokgomzwpc121', 'mzohzrycoc047', 'nfvebscnsa770', 'nkfvbmfowt875', 'nwbazvmmkx813', 'nwwgfnqjyx884', 'ohzcsjzqoc953', 'ougwqluuca285', 'penbgfcxpb048', 'pxjasdhsvr915', 'qfahkpkyxz470', 'qpqpnpmwxh077', 'qvcnsyncls685', 'qvxonhjusg977', 'rhmadziepn666', 'rpyolmhfay706', 'rxnjdjdgzc123', 'tpkajakfev692', 'ubvnihkojk616', 'ugvjmtfdsx468', 'vhziqvtsjv385', 'vltenpvpru336', 'wwszqsfdya406', 'xpnvkkcvkp924', 'xxjgkgrpnm582', 'yakenkkibv341']\n",
      " \n",
      " \n"
     ]
    }
   ],
   "source": [
    "change_name_files()"
   ]
  },
  {
   "cell_type": "code",
   "execution_count": null,
   "metadata": {},
   "outputs": [],
   "source": []
  },
  {
   "cell_type": "code",
   "execution_count": null,
   "metadata": {},
   "outputs": [],
   "source": []
  }
 ],
 "metadata": {
  "kernelspec": {
   "display_name": "Python 3",
   "language": "python",
   "name": "python3"
  },
  "language_info": {
   "codemirror_mode": {
    "name": "ipython",
    "version": 3
   },
   "file_extension": ".py",
   "mimetype": "text/x-python",
   "name": "python",
   "nbconvert_exporter": "python",
   "pygments_lexer": "ipython3",
   "version": "3.7.6"
  }
 },
 "nbformat": 4,
 "nbformat_minor": 4
}
