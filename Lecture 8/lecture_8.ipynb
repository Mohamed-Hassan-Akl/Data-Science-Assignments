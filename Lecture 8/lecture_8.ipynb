{
 "cells": [
  {
   "cell_type": "markdown",
   "metadata": {},
   "source": [
    "#### 1- Python Program to Generate a Random Number with in a  range of two numbers "
   ]
  },
  {
   "cell_type": "code",
   "execution_count": 1,
   "metadata": {},
   "outputs": [],
   "source": [
    "import random "
   ]
  },
  {
   "cell_type": "code",
   "execution_count": 4,
   "metadata": {},
   "outputs": [
    {
     "name": "stdout",
     "output_type": "stream",
     "text": [
      "Enter your first number  2\n",
      "Enter your second number  10\n",
      "your random number between 2 and 10 is 3\n"
     ]
    }
   ],
   "source": [
    "x =int(input(\"Enter your first number  \"))\n",
    "y =int(input(\"Enter your second number  \"))\n",
    "print(f\"Your random number between {x} and {y} is {random.randint(x,y) }\")\n"
   ]
  },
  {
   "cell_type": "code",
   "execution_count": null,
   "metadata": {},
   "outputs": [],
   "source": []
  },
  {
   "cell_type": "markdown",
   "metadata": {},
   "source": []
  },
  {
   "cell_type": "markdown",
   "metadata": {},
   "source": [
    "### 2-Python Program to Check if a Number is Positive, Negative or 0"
   ]
  },
  {
   "cell_type": "code",
   "execution_count": 5,
   "metadata": {},
   "outputs": [
    {
     "name": "stdout",
     "output_type": "stream",
     "text": [
      "Enter a number: -2\n",
      "Negative number\n"
     ]
    }
   ],
   "source": [
    "num = int(input(\"Enter a number: \"))\n",
    "if num > 0:\n",
    "   print(\"Positive number\")\n",
    "elif num == 0:\n",
    "   print(\"Zero\")\n",
    "else:\n",
    "   print(\"Negative number\")"
   ]
  },
  {
   "cell_type": "code",
   "execution_count": null,
   "metadata": {},
   "outputs": [],
   "source": []
  },
  {
   "cell_type": "markdown",
   "metadata": {},
   "source": [
    "### 3- Python Program To Display Powers of 2 Using  Function"
   ]
  },
  {
   "cell_type": "code",
   "execution_count": 8,
   "metadata": {},
   "outputs": [
    {
     "name": "stdout",
     "output_type": "stream",
     "text": [
      "Enter number of terms you want to find the power of 2 for 10\n",
      "The total terms are: 10\n",
      "2 raised to power 0 is 1\n",
      "2 raised to power 1 is 2\n",
      "2 raised to power 2 is 4\n",
      "2 raised to power 3 is 8\n",
      "2 raised to power 4 is 16\n",
      "2 raised to power 5 is 32\n",
      "2 raised to power 6 is 64\n",
      "2 raised to power 7 is 128\n",
      "2 raised to power 8 is 256\n",
      "2 raised to power 9 is 512\n"
     ]
    }
   ],
   "source": [
    "def power(o):\n",
    "    for n in range(o):\n",
    "        return  2 ** x\n",
    "\n",
    "terms= int (input(\"Enter number of terms you want to find the power of 2 for \"))\n",
    "\n",
    "power(terms)\n",
    "\n",
    "print(\"The total terms are:\",terms)\n",
    "for i in range(terms):\n",
    "   print(\"2 raised to power\",i,\"is\",result[i])"
   ]
  },
  {
   "cell_type": "code",
   "execution_count": null,
   "metadata": {},
   "outputs": [],
   "source": []
  },
  {
   "cell_type": "markdown",
   "metadata": {},
   "source": [
    "### 4-Python Program to Solve Quadratic Equation"
   ]
  },
  {
   "cell_type": "code",
   "execution_count": 1,
   "metadata": {},
   "outputs": [
    {
     "name": "stdout",
     "output_type": "stream",
     "text": [
      "The Quadratic Equation formula is ax**2 + bx + c = 0 \n",
      "Enter the coefficient of x ^2: 1\n",
      "Enter the coefficient of x :8\n",
      "Enter the constant number : 16\n",
      "The solution are (-4+0j) and (-4+0j)\n"
     ]
    }
   ],
   "source": [
    "\n",
    "import cmath\n",
    "print (\"The Quadratic Equation formula is ax**2 + bx + c = 0 \")\n",
    "a = int(input(\"Enter the coefficient of x ^2: \"))\n",
    "b = int(input(\"Enter the coefficient of x :\"))\n",
    "c = int(input(\"Enter the constant number : \"))\n",
    "\n",
    "# calculate the discriminant\n",
    "d = (b**2) - (4*a*c)\n",
    "\n",
    "# find two solutions\n",
    "ans1 = (-b-cmath.sqrt(d))/(2*a)\n",
    "ans2 = (-b+cmath.sqrt(d))/(2*a)\n",
    "\n",
    "print(f'The solution are {ans1} and {ans2}')"
   ]
  },
  {
   "cell_type": "markdown",
   "metadata": {},
   "source": [
    "### 5- Python Program to Convert Celsius To Fahrenheit "
   ]
  },
  {
   "cell_type": "code",
   "execution_count": 7,
   "metadata": {},
   "outputs": [
    {
     "name": "stdout",
     "output_type": "stream",
     "text": [
      "Enter your celsius degree 80.5\n",
      "degree Celsius 80.5 is equal to 176.9 degree Fahrenheit\n"
     ]
    }
   ],
   "source": [
    "\n",
    "cel= float (input(\"Enter your celsius degree \"))\n",
    "\n",
    "\n",
    "fah = (celsius * 1.8) + 32\n",
    "print(f'degree Celsius {cel} is equal to {fah} degree Fahrenheit')"
   ]
  },
  {
   "cell_type": "code",
   "execution_count": null,
   "metadata": {},
   "outputs": [],
   "source": []
  },
  {
   "cell_type": "code",
   "execution_count": null,
   "metadata": {},
   "outputs": [],
   "source": []
  }
 ],
 "metadata": {
  "kernelspec": {
   "display_name": "Python 3",
   "language": "python",
   "name": "python3"
  },
  "language_info": {
   "codemirror_mode": {
    "name": "ipython",
    "version": 3
   },
   "file_extension": ".py",
   "mimetype": "text/x-python",
   "name": "python",
   "nbconvert_exporter": "python",
   "pygments_lexer": "ipython3",
   "version": "3.7.6"
  }
 },
 "nbformat": 4,
 "nbformat_minor": 4
}
