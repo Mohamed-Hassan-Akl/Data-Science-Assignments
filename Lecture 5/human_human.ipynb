{
 "cells": [
  {
   "cell_type": "markdown",
   "metadata": {},
   "source": [
    "### First game: Human to Human "
   ]
  },
  {
   "cell_type": "code",
   "execution_count": null,
   "metadata": {},
   "outputs": [],
   "source": []
  },
  {
   "cell_type": "code",
   "execution_count": null,
   "metadata": {},
   "outputs": [],
   "source": []
  },
  {
   "cell_type": "markdown",
   "metadata": {},
   "source": [
    "#### I design my game by : \n",
    "#### - buit (6)function :   ( show_table ,   update_table,  check_winner  , play_user1 , play_user2  )\n",
    "#### - use main function  \n",
    "\n"
   ]
  },
  {
   "cell_type": "markdown",
   "metadata": {},
   "source": [
    "\n",
    "####  the main purpose of ( main) function is to :\n",
    "#### take control of  the code flow by  calling the player_1 to play in his turn  and also give  the player_2  his chance to play  \n",
    "#### then take important  decision ( if any one win the game and fininsh the game in this level ) or (the game is in the beginning). "
   ]
  },
  {
   "cell_type": "code",
   "execution_count": null,
   "metadata": {},
   "outputs": [],
   "source": []
  },
  {
   "cell_type": "markdown",
   "metadata": {},
   "source": [
    "### the purpuse of ( play_user1 ) function is:\n",
    "\n",
    "-play very important role in the code :\n",
    "\n",
    "- after the `main fuction` ask user_1 to come and play his input.\n",
    ".\n",
    "\n",
    "- `play_user1` asked the user  : whiche place in the table he need to play. \n",
    "\n",
    "- after the user enter his movement ,`play_user1` take this input and ask `update_table` to updates it's varible.\n",
    "\n",
    "- ask `show_table` to make the new update in the gui for the users to show what change happen after user_1 play his input \n",
    "\n",
    "- ask`check_winner` to discover if the user 1 win the game after playing  his movenet by checking `all 8 possibilities` for  winning this game  or no this movement is just normal move. \n",
    "\n",
    "- return the `result` of player movent to the main function to take decision to declear (who is the winner and end the game) or the game is still going  . "
   ]
  },
  {
   "cell_type": "code",
   "execution_count": null,
   "metadata": {},
   "outputs": [],
   "source": []
  },
  {
   "cell_type": "markdown",
   "metadata": {},
   "source": [
    "### the purpuse of ( play_user2 ) function is:   \n",
    "\n",
    "- the same purpuse of `play_user1` but for the second player "
   ]
  },
  {
   "cell_type": "code",
   "execution_count": null,
   "metadata": {},
   "outputs": [],
   "source": []
  },
  {
   "cell_type": "code",
   "execution_count": null,
   "metadata": {},
   "outputs": [],
   "source": []
  },
  {
   "cell_type": "markdown",
   "metadata": {},
   "source": [
    "### the purpuse of ( show_table ) function is:\n",
    "\n",
    "- 1- work as gui for users to presernt the game drawwing   making  the user a strategy   to win the game.\n",
    "\n",
    "- 2- after the user play his input this function also change the gui dependent on the new postion `pos`."
   ]
  },
  {
   "cell_type": "code",
   "execution_count": null,
   "metadata": {},
   "outputs": [],
   "source": []
  },
  {
   "cell_type": "markdown",
   "metadata": {},
   "source": [
    "### the purpose of (update_table)function is: \n",
    "\n",
    "- update th user_1 or user_2 input in my code varibles to take good decision after that basied on new movements  "
   ]
  },
  {
   "cell_type": "code",
   "execution_count": null,
   "metadata": {},
   "outputs": [],
   "source": []
  },
  {
   "cell_type": "markdown",
   "metadata": {},
   "source": [
    "### the purpuse of ( `check_winner`) function is : \n",
    "-  discover if the user 1 win the game after playing his movenet by checking all 8 possibilities for winning this game or no this movement is just normal move."
   ]
  },
  {
   "cell_type": "markdown",
   "metadata": {},
   "source": [
    "## (show_table ) function "
   ]
  },
  {
   "cell_type": "code",
   "execution_count": 1,
   "metadata": {},
   "outputs": [],
   "source": [
    "def show_table(pos):\n",
    "    print(f\"\\n_________________________________\\n|          |          |          |\\n|     {pos[0]}    |     {pos[1]}    |     {pos[2]}    |\\n|          |          |          |\\n_________________________________\\n|          |          |          |\\n|     {pos[3]}    |     {pos[4]}    |     {pos[5]}    |\\n|          |          |          | \\n_________________________________\\n|          |          |          |\\n|     {pos[6]}    |     {pos[7]}    |     {pos[8]}    |\\n|          |          |          | \\n_________________________________\\n\")\n"
   ]
  },
  {
   "cell_type": "markdown",
   "metadata": {},
   "source": [
    "## (update_table) function "
   ]
  },
  {
   "cell_type": "code",
   "execution_count": 2,
   "metadata": {},
   "outputs": [],
   "source": [
    "def update_table(user_input,user):\n",
    "    if user == 1:\n",
    "        for i in range(9):\n",
    "            if i+1 == user_input:\n",
    "                pos[i]= \"X\"              \n",
    "            else:\n",
    "                continue\n",
    "                \n",
    "    elif user==2:\n",
    "        for i in range(9):\n",
    "            if i+1 == user_input:\n",
    "                pos[i]= \"O\"                \n",
    "            else:\n",
    "                continue\n",
    "    else:\n",
    "        print(\"I can not update  the table with user input\")"
   ]
  },
  {
   "cell_type": "markdown",
   "metadata": {},
   "source": [
    "## (check_winner) function "
   ]
  },
  {
   "cell_type": "code",
   "execution_count": 3,
   "metadata": {},
   "outputs": [],
   "source": [
    "\n",
    "def check_winner(pos,user,result): \n",
    "    print(pos)\n",
    "    print(f\"user value is {user}\")\n",
    "    if user == 1:\n",
    "        print(\"I am inside user 1 for checking \")\n",
    "        print(f\"the result is {result}\")\n",
    "        for i in range(8):\n",
    "            if (pos[0] == pos[1]==pos[2] == \"X\"):\n",
    "                print(\"user1 : win the game1\")\n",
    "                result= \"user_1 win the game\"\n",
    "                break\n",
    "            elif(pos[3] == pos[4]==pos[5] == \"X\"):\n",
    "                print(\"user : 1 win the game2\")\n",
    "                result= \"user_1 win the game\"\n",
    "                break\n",
    "            \n",
    "            elif(pos[6] == pos[7]==pos[8] == \"X\"):\n",
    "                print(\"user : 1 win the game3\")\n",
    "                result= \"user_1 win the game\"\n",
    "                break\n",
    "                \n",
    "            elif(pos[0] == pos[3]==pos[6] == \"X\"):\n",
    "                print(\"user : 1 win the game4\")\n",
    "                result= \"user_1 win the game\"\n",
    "                break\n",
    "            \n",
    "            elif(pos[1] == pos[4]==pos[7] == \"X\"):\n",
    "                print(\"user : 1 win the game5\")\n",
    "                result= \"user_1 win the game\"\n",
    "                break\n",
    "            elif(pos[2] == pos[5]==pos[8] == \"X\"):\n",
    "                print(\"user : 1 win the game6\")\n",
    "                result= \"user_1 win the game\"\n",
    "                break\n",
    "            \n",
    "            elif(pos[0] == pos[4]==pos[8] == \"X\"):\n",
    "                print(\"user : 1 win the game7\")\n",
    "                result= \"user_1 win the game\"\n",
    "                break\n",
    "            \n",
    "            elif(pos[2] == pos[4]==pos[6] == \"X\"):\n",
    "                print(\"user : 1 win the game8\")\n",
    "                result= \"user_1 win the game\"\n",
    "                break            \n",
    "            else:\n",
    "                pass\n",
    "                #print(\"something wrong while calculating the user 1 statue\")\n",
    "    \n",
    "    elif user ==2:\n",
    "        print(\"I am inside user2 for cheching  \")\n",
    "        print(f\"the result is {result}\")\n",
    "        for i in range(8):\n",
    "            if (pos[0] == pos[1]==pos[2] == \"O\"):\n",
    "                print(\"user : 2 win the game1\")\n",
    "                result= \"user_2 win the game\"\n",
    "                break\n",
    "            elif(pos[3] == pos[4]==pos[5] == \"O\"):\n",
    "                print(\"user : 2 win the game2\")\n",
    "                result= \"user_2 win the game\"\n",
    "                break\n",
    "            \n",
    "            elif(pos[6] == pos[7]==pos[8] == \"O\"):\n",
    "                print(\"user : 2 win the game3\")\n",
    "                result= \"user_2 win the game\"\n",
    "                break\n",
    "                \n",
    "            elif(pos[0] == pos[3]==pos[6] == \"O\"):\n",
    "                print(\"user : 2 win the game4\")\n",
    "                result= \"user_2 win the game\"\n",
    "                break\n",
    "            \n",
    "            elif(pos[1] == pos[4]==pos[7] == \"O\"):\n",
    "                print(\"user : 2 win the game5\")\n",
    "                result= \"user_2 win the game\"\n",
    "                break\n",
    "            elif(pos[2] == pos[5]==pos[8] == \"O\"):\n",
    "                print(\"user : 2 win the game6\")\n",
    "                result= \"user_2 win the game\"\n",
    "                break\n",
    "            \n",
    "            elif(pos[0] == pos[4]==pos[8] == \"O\"):\n",
    "                print(\"user : 2 win the game7\")\n",
    "                result= \"user_2 win the game\"\n",
    "                break\n",
    "            \n",
    "            elif(pos[2] == pos[4]==pos[6] == \"O\"):\n",
    "                print(\"user : 2 win the game8\")\n",
    "                result= \"user_2 win the game\"\n",
    "                break\n",
    "            else:\n",
    "                pass\n",
    "                #print(\"something wrong while calculating the user 2 statue\")\n",
    "        \n",
    "        \n",
    "    \n",
    "    else:\n",
    "        print(\" I can not find out who is the winner \")\n",
    "    \n",
    "    print(f\"the result in the last if is::: {result}\")\n",
    "    return result\n",
    "  "
   ]
  },
  {
   "cell_type": "markdown",
   "metadata": {},
   "source": [
    "## (play_user1) function "
   ]
  },
  {
   "cell_type": "code",
   "execution_count": 4,
   "metadata": {},
   "outputs": [],
   "source": [
    "    \n",
    "def play_user1(user,result):\n",
    "    user_input=int(input(\"User 1   Play  \"))\n",
    "    update_table(user_input,user)\n",
    "    show_table(pos)\n",
    "    result=check_winner(pos,user,result)\n",
    "    print(f\"the result in the play _user1 functions is ::{result}\")\n",
    "    return result\n",
    "\n",
    "\n"
   ]
  },
  {
   "cell_type": "markdown",
   "metadata": {},
   "source": [
    "## (play_user2) function "
   ]
  },
  {
   "cell_type": "code",
   "execution_count": 5,
   "metadata": {},
   "outputs": [],
   "source": [
    "def play_user2(user,result):\n",
    "    user_input=int(input(\"User 2   Play \"))\n",
    "    update_table(user_input,user)\n",
    "    show_table(pos)\n",
    "    result=check_winner(pos,user,result)\n",
    "    print(f\"the result in the play _user2 functions is ::{result}\")\n",
    "    return result\n",
    "    \n"
   ]
  },
  {
   "cell_type": "markdown",
   "metadata": {},
   "source": [
    "###   my main function "
   ]
  },
  {
   "cell_type": "code",
   "execution_count": 6,
   "metadata": {},
   "outputs": [
    {
     "name": "stdout",
     "output_type": "stream",
     "text": [
      "\n",
      "_________________________________\n",
      "|          |          |          |\n",
      "|     1    |     2    |     3    |\n",
      "|          |          |          |\n",
      "_________________________________\n",
      "|          |          |          |\n",
      "|     4    |     5    |     6    |\n",
      "|          |          |          | \n",
      "_________________________________\n",
      "|          |          |          |\n",
      "|     7    |     8    |     9    |\n",
      "|          |          |          | \n",
      "_________________________________\n",
      "\n",
      "  Round : 1  ,in the game \n",
      "User 1   Play  1\n",
      "\n",
      "_________________________________\n",
      "|          |          |          |\n",
      "|     X    |     2    |     3    |\n",
      "|          |          |          |\n",
      "_________________________________\n",
      "|          |          |          |\n",
      "|     4    |     5    |     6    |\n",
      "|          |          |          | \n",
      "_________________________________\n",
      "|          |          |          |\n",
      "|     7    |     8    |     9    |\n",
      "|          |          |          | \n",
      "_________________________________\n",
      "\n",
      "['X', 2, 3, 4, 5, 6, 7, 8, 9]\n",
      "user value is 1\n",
      "I am inside user 1 for checking \n",
      "the result is No one win the game, continue playing \n",
      "the result in the last if is::: No one win the game, continue playing \n",
      "the result in the play _user1 functions is ::No one win the game, continue playing \n",
      "the result in the main 1 is : No one win the game, continue playing \n",
      "the game is still working \n",
      "User 2   Play 2\n",
      "\n",
      "_________________________________\n",
      "|          |          |          |\n",
      "|     X    |     O    |     3    |\n",
      "|          |          |          |\n",
      "_________________________________\n",
      "|          |          |          |\n",
      "|     4    |     5    |     6    |\n",
      "|          |          |          | \n",
      "_________________________________\n",
      "|          |          |          |\n",
      "|     7    |     8    |     9    |\n",
      "|          |          |          | \n",
      "_________________________________\n",
      "\n",
      "['X', 'O', 3, 4, 5, 6, 7, 8, 9]\n",
      "user value is 2\n",
      "I am inside user2 for cheching  \n",
      "the result is No one win the game, continue playing \n",
      "the result in the last if is::: No one win the game, continue playing \n",
      "the result in the play _user2 functions is ::No one win the game, continue playing \n",
      "the result in the main 2 is : No one win the game, continue playing \n",
      "the game is still working \n",
      "  Round : 2  ,in the game \n",
      "User 1   Play  4\n",
      "\n",
      "_________________________________\n",
      "|          |          |          |\n",
      "|     X    |     O    |     3    |\n",
      "|          |          |          |\n",
      "_________________________________\n",
      "|          |          |          |\n",
      "|     X    |     5    |     6    |\n",
      "|          |          |          | \n",
      "_________________________________\n",
      "|          |          |          |\n",
      "|     7    |     8    |     9    |\n",
      "|          |          |          | \n",
      "_________________________________\n",
      "\n",
      "['X', 'O', 3, 'X', 5, 6, 7, 8, 9]\n",
      "user value is 1\n",
      "I am inside user 1 for checking \n",
      "the result is No one win the game, continue playing \n",
      "the result in the last if is::: No one win the game, continue playing \n",
      "the result in the play _user1 functions is ::No one win the game, continue playing \n",
      "the result in the main 1 is : No one win the game, continue playing \n",
      "the game is still working \n",
      "User 2   Play 6\n",
      "\n",
      "_________________________________\n",
      "|          |          |          |\n",
      "|     X    |     O    |     3    |\n",
      "|          |          |          |\n",
      "_________________________________\n",
      "|          |          |          |\n",
      "|     X    |     5    |     O    |\n",
      "|          |          |          | \n",
      "_________________________________\n",
      "|          |          |          |\n",
      "|     7    |     8    |     9    |\n",
      "|          |          |          | \n",
      "_________________________________\n",
      "\n",
      "['X', 'O', 3, 'X', 5, 'O', 7, 8, 9]\n",
      "user value is 2\n",
      "I am inside user2 for cheching  \n",
      "the result is No one win the game, continue playing \n",
      "the result in the last if is::: No one win the game, continue playing \n",
      "the result in the play _user2 functions is ::No one win the game, continue playing \n",
      "the result in the main 2 is : No one win the game, continue playing \n",
      "the game is still working \n",
      "  Round : 3  ,in the game \n",
      "User 1   Play  7\n",
      "\n",
      "_________________________________\n",
      "|          |          |          |\n",
      "|     X    |     O    |     3    |\n",
      "|          |          |          |\n",
      "_________________________________\n",
      "|          |          |          |\n",
      "|     X    |     5    |     O    |\n",
      "|          |          |          | \n",
      "_________________________________\n",
      "|          |          |          |\n",
      "|     X    |     8    |     9    |\n",
      "|          |          |          | \n",
      "_________________________________\n",
      "\n",
      "['X', 'O', 3, 'X', 5, 'O', 'X', 8, 9]\n",
      "user value is 1\n",
      "I am inside user 1 for checking \n",
      "the result is No one win the game, continue playing \n",
      "user : 1 win the game4\n",
      "the result in the last if is::: user_1 win the game\n",
      "the result in the play _user1 functions is ::user_1 win the game\n",
      "the result in the main 1 is : user_1 win the game\n",
      "user_1 win the game,,  I will going to finish the game \n",
      " The game is  finished \n"
     ]
    }
   ],
   "source": [
    "    \n",
    "global user\n",
    "global pos\n",
    "\n",
    "pos=[1,2,3,4,5,6,7,8,9]\n",
    "show_table(pos)\n",
    "result =\"No one win the game, continue playing \"    \n",
    "\n",
    "for i in range(5):\n",
    "    print(f\"  Round : {i+1}  ,in the game \")\n",
    "    user=1\n",
    "    result =play_user1(user,result)\n",
    "    print(f\"the result in the main 1 is : {result}\")\n",
    "    \n",
    "    if result == \"user_1 win the game\":\n",
    "        print(\"user_1 win the game,,  I will going to finish the game \")\n",
    "        break\n",
    "    else:\n",
    "        print (\"the game is still working \")\n",
    "        \n",
    "    user=2\n",
    "    result=play_user2(user,result)\n",
    "    print(f\"the result in the main 2 is : {result}\")\n",
    "    if result == \"user_2 win the game\":\n",
    "        print(\"user_2 win the game,,  I will going to finish the game \")\n",
    "        break\n",
    "    else:\n",
    "        print (\"the game is still working \")\n",
    "\n",
    "print(\" The game is  finished \")"
   ]
  },
  {
   "cell_type": "code",
   "execution_count": null,
   "metadata": {},
   "outputs": [],
   "source": []
  },
  {
   "cell_type": "code",
   "execution_count": null,
   "metadata": {},
   "outputs": [],
   "source": []
  },
  {
   "cell_type": "code",
   "execution_count": null,
   "metadata": {},
   "outputs": [],
   "source": []
  },
  {
   "cell_type": "code",
   "execution_count": null,
   "metadata": {},
   "outputs": [],
   "source": []
  }
 ],
 "metadata": {
  "kernelspec": {
   "display_name": "Python 3",
   "language": "python",
   "name": "python3"
  },
  "language_info": {
   "codemirror_mode": {
    "name": "ipython",
    "version": 3
   },
   "file_extension": ".py",
   "mimetype": "text/x-python",
   "name": "python",
   "nbconvert_exporter": "python",
   "pygments_lexer": "ipython3",
   "version": "3.7.6"
  }
 },
 "nbformat": 4,
 "nbformat_minor": 4
}
